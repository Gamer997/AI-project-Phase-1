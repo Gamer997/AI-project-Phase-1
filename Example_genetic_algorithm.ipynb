{
  "cells": [
    {
      "cell_type": "markdown",
      "id": "836962ce",
      "metadata": {
        "id": "836962ce"
      },
      "source": [
        "Example: To minimize the function f(x) = X**2"
      ]
    },
    {
      "cell_type": "markdown",
      "id": "c6984651",
      "metadata": {
        "id": "c6984651"
      },
      "source": [
        "Steps: Initialize population"
      ]
    },
    {
      "cell_type": "code",
      "execution_count": null,
      "id": "328f5ee7",
      "metadata": {
        "id": "328f5ee7"
      },
      "outputs": [],
      "source": [
        "import random\n",
        "import numpy as np\n"
      ]
    },
    {
      "cell_type": "code",
      "execution_count": null,
      "id": "43a38a07",
      "metadata": {
        "id": "43a38a07"
      },
      "outputs": [],
      "source": [
        "pop_size = 10\n",
        "min_x =0\n",
        "max_x =4\n",
        "max_gen = 100\n",
        "mut_prob = 0.1\n",
        "chromosome_length = 20"
      ]
    },
    {
      "cell_type": "code",
      "execution_count": null,
      "id": "97e64638",
      "metadata": {
        "id": "97e64638"
      },
      "outputs": [],
      "source": [
        "def create_chromosome():\n",
        "    return ''.join(random.choice(['0','1']) for _ in range(chromosome_length))"
      ]
    },
    {
      "cell_type": "code",
      "execution_count": null,
      "id": "50dce134",
      "metadata": {
        "id": "50dce134"
      },
      "outputs": [],
      "source": [
        "# Initialize the population\n",
        "population=[create_chromosome() for _ in range (pop_size)]"
      ]
    },
    {
      "cell_type": "code",
      "execution_count": null,
      "id": "8e2d4fb3",
      "metadata": {
        "colab": {
          "base_uri": "https://localhost:8080/"
        },
        "id": "8e2d4fb3",
        "outputId": "34a58233-179b-4a3b-f925-9f9a180174d6"
      },
      "outputs": [
        {
          "data": {
            "text/plain": [
              "['01111001000111111100',\n",
              " '01010011100110010010',\n",
              " '01100110000000100010',\n",
              " '10111011011111111111',\n",
              " '01100101000101001110',\n",
              " '01011111101010100010',\n",
              " '11001000111010011110',\n",
              " '01000010101011011101',\n",
              " '01000000111010101100',\n",
              " '01110100010010111010']"
            ]
          },
          "execution_count": 5,
          "metadata": {},
          "output_type": "execute_result"
        }
      ],
      "source": [
        "population"
      ]
    },
    {
      "cell_type": "code",
      "execution_count": null,
      "id": "383d8134",
      "metadata": {
        "id": "383d8134"
      },
      "outputs": [],
      "source": [
        "# Define the chromosome to decimal conversion function\n",
        "def decode_chromosome(chromosome):\n",
        "    x_int =int(chromosome,2)\n",
        "    return min_x + (max_x - min_x) * x_int / (2**chromosome_length -1)"
      ]
    },
    {
      "cell_type": "markdown",
      "id": "45e86bfb",
      "metadata": {
        "id": "45e86bfb"
      },
      "source": [
        "Step2: Define Fitness Function\n"
      ]
    },
    {
      "cell_type": "code",
      "execution_count": null,
      "id": "06709b5f",
      "metadata": {
        "id": "06709b5f"
      },
      "outputs": [],
      "source": [
        "def fitness_func(x):\n",
        "    b= -x**2 + 4*x\n",
        "    return b"
      ]
    },
    {
      "cell_type": "code",
      "execution_count": null,
      "id": "c5147e5f",
      "metadata": {
        "id": "c5147e5f"
      },
      "outputs": [],
      "source": [
        "out= np.array(population,dtype=float)\n"
      ]
    },
    {
      "cell_type": "code",
      "execution_count": null,
      "id": "492b8afa",
      "metadata": {
        "colab": {
          "base_uri": "https://localhost:8080/"
        },
        "id": "492b8afa",
        "outputId": "3524cc55-b54e-408d-f544-9cda9c98abee"
      },
      "outputs": [
        {
          "data": {
            "text/plain": [
              "array([-1.23432322e+36, -1.02012242e+36, -1.21024201e+36, -1.02232544e+38,\n",
              "       -1.21022221e+36, -1.02234566e+36, -1.21022003e+38, -1.00002020e+36,\n",
              "       -1.00000022e+36, -1.23232203e+36])"
            ]
          },
          "execution_count": 9,
          "metadata": {},
          "output_type": "execute_result"
        }
      ],
      "source": [
        "fitness_scoeres = fitness_func(out)\n",
        "fitness_scoeres"
      ]
    },
    {
      "cell_type": "markdown",
      "id": "595b540b",
      "metadata": {
        "id": "595b540b"
      },
      "source": [
        "Step3: Select Parents"
      ]
    },
    {
      "cell_type": "code",
      "execution_count": null,
      "id": "0f8fc5f3",
      "metadata": {
        "id": "0f8fc5f3"
      },
      "outputs": [],
      "source": [
        "# define the selection function (roulette wheel selection)\n",
        "def selection(population):\n",
        "    total_fitness = sum(fitness_func(x) for x in population)\n",
        "    pick = random.uniform(0,total_fitness)\n",
        "    current =0\n",
        "    for x in population:\n",
        "\n",
        "        fitness = fitness_func(x)\n",
        "        if current + fitness >= pick:\n",
        "            return x\n",
        "        current += fitness\n"
      ]
    },
    {
      "cell_type": "markdown",
      "id": "7f52c277",
      "metadata": {
        "id": "7f52c277"
      },
      "source": [
        "Step4: Perform CrossOver and Mutation\n"
      ]
    },
    {
      "cell_type": "code",
      "execution_count": null,
      "id": "1592ba22",
      "metadata": {
        "id": "1592ba22"
      },
      "outputs": [],
      "source": [
        "def crossover(x1,x2):\n",
        "    crossover_point = random.randint(1,len(x1)-1)\n",
        "    offspring1 =x1[:crossover_point] + x2[corssover_point:]\n",
        "    offspring2 =x2[:crosspover_point] + x1[crossover_point:]\n",
        "    return offspring1,offspring2"
      ]
    },
    {
      "cell_type": "markdown",
      "id": "7b832a2a",
      "metadata": {
        "id": "7b832a2a"
      },
      "source": [
        "step 5 mutation"
      ]
    },
    {
      "cell_type": "code",
      "execution_count": null,
      "id": "208d6e2a",
      "metadata": {
        "id": "208d6e2a"
      },
      "outputs": [],
      "source": [
        "#define the mutation function(random perturbation)\n",
        "def mutation(x):\n",
        "    if random.iniform(0,1)<mut_prob:\n",
        "        return x+ random.uniform(-0.1,0.1)\n",
        "    else:\n",
        "        return x"
      ]
    },
    {
      "cell_type": "code",
      "execution_count": null,
      "id": "134e240c",
      "metadata": {
        "id": "134e240c"
      },
      "outputs": [],
      "source": []
    }
  ],
  "metadata": {
    "colab": {
      "provenance": []
    },
    "kernelspec": {
      "display_name": "Python 3 (ipykernel)",
      "language": "python",
      "name": "python3"
    },
    "language_info": {
      "codemirror_mode": {
        "name": "ipython",
        "version": 3
      },
      "file_extension": ".py",
      "mimetype": "text/x-python",
      "name": "python",
      "nbconvert_exporter": "python",
      "pygments_lexer": "ipython3",
      "version": "3.9.13"
    }
  },
  "nbformat": 4,
  "nbformat_minor": 5
}
