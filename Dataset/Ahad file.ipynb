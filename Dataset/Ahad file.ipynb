{
 "cells": [
  {
   "cell_type": "code",
   "execution_count": null,
   "metadata": {},
   "outputs": [],
   "source": [
    "import pandas as pd\n",
    "import numpy as np\n",
    "\n",
    "# Step 1: Read Input Data\n",
    "def read_data():\n",
    "    courses_df = pd.read_csv('courses.csv')\n",
    "    teachers_df = pd.read_csv('teachers.csv')\n",
    "    students_df = pd.read_csv('studentCourse.csv')\n",
    "    student_course_df = pd.read_csv('studentNames.csv')\n",
    "    return courses_df, teachers_df, students_df, student_course_df"
   ]
  },
  {
   "cell_type": "markdown",
   "metadata": {},
   "source": [
    "Chromosome Representation"
   ]
  },
  {
   "cell_type": "code",
   "execution_count": 3,
   "metadata": {},
   "outputs": [
    {
     "data": {
      "text/plain": [
       "array([[4, 0, 2, 1, 1],\n",
       "       [2, 5, 4, 1, 2],\n",
       "       [6, 5, 0, 6, 6]])"
      ]
     },
     "execution_count": 3,
     "metadata": {},
     "output_type": "execute_result"
    }
   ],
   "source": [
    "# Step 2: Chromosome Representation\n",
    "#                 no of courses , no of slots for each exam , no of available timeslots\n",
    "def initialize_chromosome(num_exams, num_genes_per_exam, num_timeslots):\n",
    "    return np.random.randint(0, num_timeslots, size=(num_exams, num_genes_per_exam))\n",
    "\n",
    "a = initialize_chromosome(3,5,7)\n",
    "a\n"
   ]
  },
  {
   "cell_type": "markdown",
   "metadata": {},
   "source": [
    "Fitness Evaluation"
   ]
  },
  {
   "cell_type": "code",
   "execution_count": 9,
   "metadata": {},
   "outputs": [
    {
     "name": "stdout",
     "output_type": "stream",
     "text": [
      "Chromosome 1 fitness: 7\n"
     ]
    }
   ],
   "source": [
    "import numpy as np\n",
    "\n",
    "def evaluate_fitness(chromosome):\n",
    "    fitness = 0\n",
    "    \n",
    "    # Hard Constraints\n",
    "    # Constraint 1: An exam will be scheduled for each course.\n",
    "    if not all(np.sum(chromosome, axis=1)):\n",
    "        fitness += 1\n",
    "    \n",
    "    # Constraint 2: A student is enrolled in at least 3 courses. \n",
    "    # A student cannot give more than 1 exam at a time.\n",
    "    for time_slot in range(chromosome.shape[1]):\n",
    "        exams_at_time = chromosome[:, time_slot]\n",
    "        if np.sum(exams_at_time) > 1:\n",
    "            fitness += 1\n",
    "        student_counts = np.sum(chromosome, axis=0)\n",
    "        if any(student_counts < 3):\n",
    "            fitness += 1\n",
    "    \n",
    "    # Constraint 3: Exam will not be held on weekends.\n",
    "    if any(chromosome[:, -2:].flatten()):\n",
    "        fitness += 1\n",
    "    \n",
    "    # Constraint 4: Each exam must be held between 9 am and 5 pm.\n",
    "    if any(chromosome[:, :9].flatten()) or any(chromosome[:, 17:].flatten()):\n",
    "        fitness += 1\n",
    "    \n",
    "    return fitness"
   ]
  },
  {
   "cell_type": "markdown",
   "metadata": {},
   "source": [
    "Genetic Algorithm"
   ]
  },
  {
   "cell_type": "code",
   "execution_count": 10,
   "metadata": {},
   "outputs": [],
   "source": [
    "def selection(population, fitness_scores):\n",
    "    selected_indices = np.random.choice(len(population), size=2, p=fitness_scores/np.sum(fitness_scores))\n",
    "    return population[selected_indices]\n",
    "\n",
    "def crossover(parent1, parent2):\n",
    "    crossover_point = np.random.randint(1, len(parent1))\n",
    "    child1 = np.concatenate((parent1[:crossover_point], parent2[crossover_point:]))\n",
    "    child2 = np.concatenate((parent2[:crossover_point], parent1[crossover_point:]))\n",
    "    return child1, child2\n",
    "\n",
    "def mutation(chromosome, mutation_rate):\n",
    "    for gene_index in range(len(chromosome)):\n",
    "        if np.random.random() < mutation_rate:\n",
    "            chromosome[gene_index] = np.random.randint(0, num_timeslots)\n",
    "    return chromosome"
   ]
  },
  {
   "cell_type": "markdown",
   "metadata": {},
   "source": [
    "Schedule Generation"
   ]
  },
  {
   "cell_type": "code",
   "execution_count": 11,
   "metadata": {},
   "outputs": [],
   "source": [
    "# Step 5: Schedule Generation\n",
    "def generate_schedule(num_exams, num_genes_per_exam, num_timeslots, population_size, max_generations, mutation_rate):\n",
    "    population = [initialize_chromosome(num_exams, num_genes_per_exam, num_timeslots) for _ in range(population_size)]\n",
    "    \n",
    "    for generation in range(max_generations):\n",
    "        fitness_scores = [evaluate_fitness(chromosome) for chromosome in population]\n",
    "        parents = [selection(population, fitness_scores) for _ in range(population_size // 2)]\n",
    "        offspring = [crossover(parent1, parent2) for parent1, parent2 in parents]\n",
    "        offspring = [gene for pair in offspring for gene in pair]  # Flatten list\n",
    "        mutated_offspring = [mutation(chromosome, mutation_rate) for chromosome in offspring]\n",
    "        population = mutated_offspring\n",
    "\n",
    "    best_chromosome = max(population, key=evaluate_fitness)\n",
    "    return best_chromosome\n"
   ]
  },
  {
   "cell_type": "code",
   "execution_count": 13,
   "metadata": {},
   "outputs": [
    {
     "ename": "TypeError",
     "evalue": "only integer scalar arrays can be converted to a scalar index",
     "output_type": "error",
     "traceback": [
      "\u001b[1;31m---------------------------------------------------------------------------\u001b[0m",
      "\u001b[1;31mTypeError\u001b[0m                                 Traceback (most recent call last)",
      "Cell \u001b[1;32mIn[13], line 17\u001b[0m\n\u001b[0;32m     14\u001b[0m mutation_rate \u001b[38;5;241m=\u001b[39m \u001b[38;5;241m0.1\u001b[39m\n\u001b[0;32m     16\u001b[0m \u001b[38;5;66;03m# Generate schedule\u001b[39;00m\n\u001b[1;32m---> 17\u001b[0m best_schedule \u001b[38;5;241m=\u001b[39m \u001b[43mgenerate_schedule\u001b[49m\u001b[43m(\u001b[49m\u001b[43mnum_exams\u001b[49m\u001b[43m,\u001b[49m\u001b[43m \u001b[49m\u001b[43mnum_genes_per_exam\u001b[49m\u001b[43m,\u001b[49m\u001b[43m \u001b[49m\u001b[43mnum_timeslots\u001b[49m\u001b[43m,\u001b[49m\u001b[43m \u001b[49m\u001b[43mpopulation_size\u001b[49m\u001b[43m,\u001b[49m\u001b[43m \u001b[49m\u001b[43mmax_generations\u001b[49m\u001b[43m,\u001b[49m\u001b[43m \u001b[49m\u001b[43mmutation_rate\u001b[49m\u001b[43m)\u001b[49m\n\u001b[0;32m     19\u001b[0m \u001b[38;5;66;03m# Print best schedule\u001b[39;00m\n\u001b[0;32m     20\u001b[0m \u001b[38;5;28mprint\u001b[39m(\u001b[38;5;124m\"\u001b[39m\u001b[38;5;130;01m\\n\u001b[39;00m\u001b[38;5;124mBest Schedule:\u001b[39m\u001b[38;5;124m\"\u001b[39m)\n",
      "Cell \u001b[1;32mIn[11], line 7\u001b[0m, in \u001b[0;36mgenerate_schedule\u001b[1;34m(num_exams, num_genes_per_exam, num_timeslots, population_size, max_generations, mutation_rate)\u001b[0m\n\u001b[0;32m      5\u001b[0m \u001b[38;5;28;01mfor\u001b[39;00m generation \u001b[38;5;129;01min\u001b[39;00m \u001b[38;5;28mrange\u001b[39m(max_generations):\n\u001b[0;32m      6\u001b[0m     fitness_scores \u001b[38;5;241m=\u001b[39m [evaluate_fitness(chromosome) \u001b[38;5;28;01mfor\u001b[39;00m chromosome \u001b[38;5;129;01min\u001b[39;00m population]\n\u001b[1;32m----> 7\u001b[0m     parents \u001b[38;5;241m=\u001b[39m \u001b[43m[\u001b[49m\u001b[43mselection\u001b[49m\u001b[43m(\u001b[49m\u001b[43mpopulation\u001b[49m\u001b[43m,\u001b[49m\u001b[43m \u001b[49m\u001b[43mfitness_scores\u001b[49m\u001b[43m)\u001b[49m\u001b[43m \u001b[49m\u001b[38;5;28;43;01mfor\u001b[39;49;00m\u001b[43m \u001b[49m\u001b[43m_\u001b[49m\u001b[43m \u001b[49m\u001b[38;5;129;43;01min\u001b[39;49;00m\u001b[43m \u001b[49m\u001b[38;5;28;43mrange\u001b[39;49m\u001b[43m(\u001b[49m\u001b[43mpopulation_size\u001b[49m\u001b[43m \u001b[49m\u001b[38;5;241;43m/\u001b[39;49m\u001b[38;5;241;43m/\u001b[39;49m\u001b[43m \u001b[49m\u001b[38;5;241;43m2\u001b[39;49m\u001b[43m)\u001b[49m\u001b[43m]\u001b[49m\n\u001b[0;32m      8\u001b[0m     offspring \u001b[38;5;241m=\u001b[39m [crossover(parent1, parent2) \u001b[38;5;28;01mfor\u001b[39;00m parent1, parent2 \u001b[38;5;129;01min\u001b[39;00m parents]\n\u001b[0;32m      9\u001b[0m     offspring \u001b[38;5;241m=\u001b[39m [gene \u001b[38;5;28;01mfor\u001b[39;00m pair \u001b[38;5;129;01min\u001b[39;00m offspring \u001b[38;5;28;01mfor\u001b[39;00m gene \u001b[38;5;129;01min\u001b[39;00m pair]  \u001b[38;5;66;03m# Flatten list\u001b[39;00m\n",
      "Cell \u001b[1;32mIn[11], line 7\u001b[0m, in \u001b[0;36m<listcomp>\u001b[1;34m(.0)\u001b[0m\n\u001b[0;32m      5\u001b[0m \u001b[38;5;28;01mfor\u001b[39;00m generation \u001b[38;5;129;01min\u001b[39;00m \u001b[38;5;28mrange\u001b[39m(max_generations):\n\u001b[0;32m      6\u001b[0m     fitness_scores \u001b[38;5;241m=\u001b[39m [evaluate_fitness(chromosome) \u001b[38;5;28;01mfor\u001b[39;00m chromosome \u001b[38;5;129;01min\u001b[39;00m population]\n\u001b[1;32m----> 7\u001b[0m     parents \u001b[38;5;241m=\u001b[39m [\u001b[43mselection\u001b[49m\u001b[43m(\u001b[49m\u001b[43mpopulation\u001b[49m\u001b[43m,\u001b[49m\u001b[43m \u001b[49m\u001b[43mfitness_scores\u001b[49m\u001b[43m)\u001b[49m \u001b[38;5;28;01mfor\u001b[39;00m _ \u001b[38;5;129;01min\u001b[39;00m \u001b[38;5;28mrange\u001b[39m(population_size \u001b[38;5;241m/\u001b[39m\u001b[38;5;241m/\u001b[39m \u001b[38;5;241m2\u001b[39m)]\n\u001b[0;32m      8\u001b[0m     offspring \u001b[38;5;241m=\u001b[39m [crossover(parent1, parent2) \u001b[38;5;28;01mfor\u001b[39;00m parent1, parent2 \u001b[38;5;129;01min\u001b[39;00m parents]\n\u001b[0;32m      9\u001b[0m     offspring \u001b[38;5;241m=\u001b[39m [gene \u001b[38;5;28;01mfor\u001b[39;00m pair \u001b[38;5;129;01min\u001b[39;00m offspring \u001b[38;5;28;01mfor\u001b[39;00m gene \u001b[38;5;129;01min\u001b[39;00m pair]  \u001b[38;5;66;03m# Flatten list\u001b[39;00m\n",
      "Cell \u001b[1;32mIn[10], line 3\u001b[0m, in \u001b[0;36mselection\u001b[1;34m(population, fitness_scores)\u001b[0m\n\u001b[0;32m      1\u001b[0m \u001b[38;5;28;01mdef\u001b[39;00m \u001b[38;5;21mselection\u001b[39m(population, fitness_scores):\n\u001b[0;32m      2\u001b[0m     selected_indices \u001b[38;5;241m=\u001b[39m np\u001b[38;5;241m.\u001b[39mrandom\u001b[38;5;241m.\u001b[39mchoice(\u001b[38;5;28mlen\u001b[39m(population), size\u001b[38;5;241m=\u001b[39m\u001b[38;5;241m2\u001b[39m, p\u001b[38;5;241m=\u001b[39mfitness_scores\u001b[38;5;241m/\u001b[39mnp\u001b[38;5;241m.\u001b[39msum(fitness_scores))\n\u001b[1;32m----> 3\u001b[0m     \u001b[38;5;28;01mreturn\u001b[39;00m \u001b[43mpopulation\u001b[49m\u001b[43m[\u001b[49m\u001b[43mselected_indices\u001b[49m\u001b[43m]\u001b[49m\n",
      "\u001b[1;31mTypeError\u001b[0m: only integer scalar arrays can be converted to a scalar index"
     ]
    }
   ],
   "source": [
    "# Step 7: Driver Code\n",
    "\n",
    "# Read input data\n",
    "courses_df, teachers_df, students_df, student_course_df = read_data()\n",
    "\n",
    "\n",
    "\n",
    "# Define parameters\n",
    "num_exams = len(courses_df)\n",
    "num_genes_per_exam = 3  # Assuming each exam has 3 attributes (course, teacher, classroom)\n",
    "num_timeslots = 5  # Number of available time slots for exams\n",
    "population_size = 50\n",
    "max_generations = 100\n",
    "mutation_rate = 0.1\n",
    "\n",
    "# Generate schedule\n",
    "best_schedule = generate_schedule(num_exams, num_genes_per_exam, num_timeslots, population_size, max_generations, mutation_rate)\n",
    "\n",
    "# Print best schedule\n",
    "print(\"\\nBest Schedule:\")\n",
    "print(best_schedule)\n"
   ]
  }
 ],
 "metadata": {
  "kernelspec": {
   "display_name": "Python 3",
   "language": "python",
   "name": "python3"
  },
  "language_info": {
   "codemirror_mode": {
    "name": "ipython",
    "version": 3
   },
   "file_extension": ".py",
   "mimetype": "text/x-python",
   "name": "python",
   "nbconvert_exporter": "python",
   "pygments_lexer": "ipython3",
   "version": "3.10.7"
  }
 },
 "nbformat": 4,
 "nbformat_minor": 2
}
